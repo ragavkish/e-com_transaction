{
  "nbformat": 4,
  "nbformat_minor": 0,
  "metadata": {
    "colab": {
      "provenance": [],
      "authorship_tag": "ABX9TyPGy0li0QdGSfxhphyMdLjY",
      "include_colab_link": true
    },
    "kernelspec": {
      "name": "python3",
      "display_name": "Python 3"
    },
    "language_info": {
      "name": "python"
    }
  },
  "cells": [
    {
      "cell_type": "markdown",
      "metadata": {
        "id": "view-in-github",
        "colab_type": "text"
      },
      "source": [
        "<a href=\"https://colab.research.google.com/github/ragavkish/e-com_transaction/blob/main/Ragavkishore_DM_Lookalike.ipynb\" target=\"_parent\"><img src=\"https://colab.research.google.com/assets/colab-badge.svg\" alt=\"Open In Colab\"/></a>"
      ]
    },
    {
      "cell_type": "markdown",
      "source": [
        "##**Import Libraries and Load Data**"
      ],
      "metadata": {
        "id": "ADM-bL8HySWS"
      }
    },
    {
      "cell_type": "code",
      "execution_count": 1,
      "metadata": {
        "id": "Jx1xB2JJyJXx"
      },
      "outputs": [],
      "source": [
        "import pandas as pd\n",
        "from sklearn.metrics.pairwise import cosine_similarity\n",
        "from sklearn.preprocessing import StandardScaler\n",
        "import numpy as np"
      ]
    },
    {
      "cell_type": "code",
      "source": [
        "customers = pd.read_csv(\"/content/dataset/Customers.csv\")\n",
        "products = pd.read_csv(\"/content/dataset/Products.csv\")\n",
        "transactions = pd.read_csv(\"/content/dataset/Transactions.csv\")"
      ],
      "metadata": {
        "id": "3GRNnUZyzagJ"
      },
      "execution_count": 2,
      "outputs": []
    },
    {
      "cell_type": "code",
      "source": [
        "print(\"Customers:\")\n",
        "print(customers.head())\n",
        "print(\"\\nProducts:\")\n",
        "print(products.head())\n",
        "print(\"\\nTransactions:\")\n",
        "print(transactions.head())"
      ],
      "metadata": {
        "colab": {
          "base_uri": "https://localhost:8080/"
        },
        "id": "cLCcnLDXzlXh",
        "outputId": "3f90398a-f532-4eb6-9b46-0936d9c71190"
      },
      "execution_count": 3,
      "outputs": [
        {
          "output_type": "stream",
          "name": "stdout",
          "text": [
            "Customers:\n",
            "  CustomerID        CustomerName         Region  SignupDate\n",
            "0      C0001    Lawrence Carroll  South America  2022-07-10\n",
            "1      C0002      Elizabeth Lutz           Asia  2022-02-13\n",
            "2      C0003      Michael Rivera  South America  2024-03-07\n",
            "3      C0004  Kathleen Rodriguez  South America  2022-10-09\n",
            "4      C0005         Laura Weber           Asia  2022-08-15\n",
            "\n",
            "Products:\n",
            "  ProductID              ProductName     Category   Price\n",
            "0      P001     ActiveWear Biography        Books  169.30\n",
            "1      P002    ActiveWear Smartwatch  Electronics  346.30\n",
            "2      P003  ComfortLiving Biography        Books   44.12\n",
            "3      P004            BookWorld Rug   Home Decor   95.69\n",
            "4      P005          TechPro T-Shirt     Clothing  429.31\n",
            "\n",
            "Transactions:\n",
            "  TransactionID CustomerID ProductID      TransactionDate  Quantity  \\\n",
            "0        T00001      C0199      P067  2024-08-25 12:38:23         1   \n",
            "1        T00112      C0146      P067  2024-05-27 22:23:54         1   \n",
            "2        T00166      C0127      P067  2024-04-25 07:38:55         1   \n",
            "3        T00272      C0087      P067  2024-03-26 22:55:37         2   \n",
            "4        T00363      C0070      P067  2024-03-21 15:10:10         3   \n",
            "\n",
            "   TotalValue   Price  \n",
            "0      300.68  300.68  \n",
            "1      300.68  300.68  \n",
            "2      300.68  300.68  \n",
            "3      601.36  300.68  \n",
            "4      902.04  300.68  \n"
          ]
        }
      ]
    },
    {
      "cell_type": "markdown",
      "source": [
        "##**Data Preprocessing**"
      ],
      "metadata": {
        "id": "kaJS5NSizqS6"
      }
    },
    {
      "cell_type": "code",
      "source": [
        "transactions = transactions.merge(products, on=\"ProductID\", how=\"left\")\n",
        "transactions = transactions.merge(customers, on=\"CustomerID\", how=\"left\")"
      ],
      "metadata": {
        "id": "sFIBL1Hbzupt"
      },
      "execution_count": 4,
      "outputs": []
    },
    {
      "cell_type": "code",
      "source": [
        "customer_features = transactions.groupby(\"CustomerID\").agg({\n",
        "    'TotalValue': ['sum', 'mean'],\n",
        "    'Quantity': 'sum',\n",
        "    'ProductID': lambda x: x.nunique(),\n",
        "    'TransactionDate': lambda x: (pd.to_datetime(x).max() - pd.to_datetime(x).min()).days\n",
        "}).reset_index()"
      ],
      "metadata": {
        "id": "lgdud84-zxeT"
      },
      "execution_count": 5,
      "outputs": []
    },
    {
      "cell_type": "code",
      "source": [
        "customer_features.columns = ['CustomerID', 'TotalSpent', 'AvgTransactionValue', 'TotalQuantity', 'UniqueProducts', 'Recency']"
      ],
      "metadata": {
        "id": "XsJKau5Uz1Oi"
      },
      "execution_count": 6,
      "outputs": []
    },
    {
      "cell_type": "code",
      "source": [
        "region_dummies = pd.get_dummies(customers[['CustomerID', 'Region']], columns=['Region'], drop_first=True)\n",
        "customer_features = customer_features.merge(region_dummies, on=\"CustomerID\", how=\"left\")"
      ],
      "metadata": {
        "id": "M1wZqsqiz4qa"
      },
      "execution_count": 7,
      "outputs": []
    },
    {
      "cell_type": "code",
      "source": [
        "scaler = StandardScaler()\n",
        "scaled_features = scaler.fit_transform(customer_features.drop(columns=['CustomerID']))"
      ],
      "metadata": {
        "id": "zHNy369Pz9zU"
      },
      "execution_count": 8,
      "outputs": []
    },
    {
      "cell_type": "markdown",
      "source": [
        "##**Computation of Similarities**"
      ],
      "metadata": {
        "id": "z0YEuwOe0Xf-"
      }
    },
    {
      "cell_type": "code",
      "source": [
        "similarity_matrix = cosine_similarity(scaled_features)"
      ],
      "metadata": {
        "id": "-B9FQ8Dd0ffa"
      },
      "execution_count": 9,
      "outputs": []
    },
    {
      "cell_type": "code",
      "source": [
        "customer_indices = {id_: idx for idx, id_ in enumerate(customer_features['CustomerID'])}"
      ],
      "metadata": {
        "id": "rH-hwaP60hlE"
      },
      "execution_count": 10,
      "outputs": []
    }
  ]
}