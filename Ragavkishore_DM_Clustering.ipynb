{
  "nbformat": 4,
  "nbformat_minor": 0,
  "metadata": {
    "colab": {
      "provenance": [],
      "authorship_tag": "ABX9TyPw7GauEBqnmKEm9z6IbR29",
      "include_colab_link": true
    },
    "kernelspec": {
      "name": "python3",
      "display_name": "Python 3"
    },
    "language_info": {
      "name": "python"
    }
  },
  "cells": [
    {
      "cell_type": "markdown",
      "metadata": {
        "id": "view-in-github",
        "colab_type": "text"
      },
      "source": [
        "<a href=\"https://colab.research.google.com/github/ragavkish/e-com_transaction/blob/main/Ragavkishore_DM_Clustering.ipynb\" target=\"_parent\"><img src=\"https://colab.research.google.com/assets/colab-badge.svg\" alt=\"Open In Colab\"/></a>"
      ]
    },
    {
      "cell_type": "markdown",
      "source": [
        "##**Import Libraries**"
      ],
      "metadata": {
        "id": "37MNpQ_p2GId"
      }
    },
    {
      "cell_type": "code",
      "source": [
        "import pandas as pd\n",
        "import numpy as np\n",
        "from sklearn.preprocessing import StandardScaler, LabelEncoder\n",
        "from sklearn.cluster import KMeans\n",
        "from sklearn.decomposition import PCA\n",
        "from sklearn.metrics import davies_bouldin_score, silhouette_score\n",
        "import matplotlib.pyplot as plt\n",
        "import seaborn as sns"
      ],
      "metadata": {
        "id": "vQi8Hj_f39nT"
      },
      "execution_count": 2,
      "outputs": []
    },
    {
      "cell_type": "markdown",
      "source": [
        "##**Load Datasets**"
      ],
      "metadata": {
        "id": "deetCx9f3BwI"
      }
    },
    {
      "cell_type": "code",
      "source": [
        "customers = pd.read_csv('/content/datasets/Customers.csv')\n",
        "products = pd.read_csv('/content/datasets/Products.csv')\n",
        "transactions = pd.read_csv('/content/datasets/Transactions.csv')"
      ],
      "metadata": {
        "id": "Xn0FQM4I4UJ1"
      },
      "execution_count": 3,
      "outputs": []
    },
    {
      "cell_type": "markdown",
      "source": [
        "##**Merge datasets**"
      ],
      "metadata": {
        "id": "7iNix0mb3K8T"
      }
    },
    {
      "cell_type": "code",
      "source": [
        "data = transactions.merge(customers, on='CustomerID').merge(products, on='ProductID')"
      ],
      "metadata": {
        "id": "oji9WXAJ4kfH"
      },
      "execution_count": 4,
      "outputs": []
    },
    {
      "cell_type": "markdown",
      "source": [
        "##**Feature Engineering**"
      ],
      "metadata": {
        "id": "XP150W7j3SEY"
      }
    },
    {
      "cell_type": "markdown",
      "source": [
        "##**Encode categorical variables**"
      ],
      "metadata": {
        "id": "Cewu6YtT3YlB"
      }
    },
    {
      "cell_type": "markdown",
      "source": [
        "##**Normalize features**"
      ],
      "metadata": {
        "id": "S0lX2PIc3eU6"
      }
    },
    {
      "cell_type": "markdown",
      "source": [
        "##**Clustering**"
      ],
      "metadata": {
        "id": "_aSWVBt-3hBU"
      }
    },
    {
      "cell_type": "markdown",
      "source": [
        "##**Metrics**"
      ],
      "metadata": {
        "id": "XHv_hCZa3lYv"
      }
    },
    {
      "cell_type": "markdown",
      "source": [
        "##**PCA for visualization**"
      ],
      "metadata": {
        "id": "TBRKObW43qFB"
      }
    },
    {
      "cell_type": "markdown",
      "source": [
        "##**Visualize clusters**"
      ],
      "metadata": {
        "id": "T2o_377N3uEJ"
      }
    }
  ]
}